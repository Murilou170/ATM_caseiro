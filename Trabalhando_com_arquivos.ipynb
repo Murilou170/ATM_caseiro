{
 "cells": [
  {
   "cell_type": "markdown",
   "id": "69d8dd8e",
   "metadata": {},
   "source": [
    "# Pastas e diretórios"
   ]
  },
  {
   "cell_type": "code",
   "execution_count": 1,
   "id": "cf3d105e",
   "metadata": {},
   "outputs": [
    {
     "name": "stdout",
     "output_type": "stream",
     "text": [
      "span/bacon/eggs\n"
     ]
    }
   ],
   "source": [
    "from pathlib import Path\n",
    "\n",
    "print(Path('span','bacon','eggs'))"
   ]
  },
  {
   "cell_type": "markdown",
   "id": "018c1d63",
   "metadata": {},
   "source": [
    "# Criando caminhos completos a partir do diretório corrente"
   ]
  },
  {
   "cell_type": "code",
   "execution_count": 2,
   "id": "7b111c84",
   "metadata": {},
   "outputs": [
    {
     "name": "stdout",
     "output_type": "stream",
     "text": [
      "/home/hgmachine/Documentos/Disciplina POO 012023/Aula 14/account.txt\n",
      "/home/hgmachine/Documentos/Disciplina POO 012023/Aula 14/details.csv\n",
      "/home/hgmachine/Documentos/Disciplina POO 012023/Aula 14/invite.docx\n"
     ]
    }
   ],
   "source": [
    "myFiles= ['account.txt','details.csv','invite.docx']\n",
    "for filename in myFiles:\n",
    "    print(Path(Path.cwd(),filename))"
   ]
  },
  {
   "cell_type": "markdown",
   "id": "dc515821",
   "metadata": {},
   "source": [
    "# Criando um diretório em Home:"
   ]
  },
  {
   "cell_type": "code",
   "execution_count": 3,
   "id": "a3cbefaa",
   "metadata": {},
   "outputs": [],
   "source": [
    "import os\n",
    "\n",
    "homeDir= Path.home()\n",
    "myPath= Path(homeDir,'minhaPasta')\n",
    "\n",
    "os.makedirs(myPath)\n",
    "\n",
    "# A partir de um objeto:\n",
    "\n",
    "Path(homeDir,'outraPasta').mkdir()"
   ]
  },
  {
   "cell_type": "markdown",
   "id": "9359f13a",
   "metadata": {},
   "source": [
    "# Verificando a validade de diretórios e arquivos"
   ]
  },
  {
   "cell_type": "code",
   "execution_count": 4,
   "id": "f8957ad7",
   "metadata": {},
   "outputs": [
    {
     "data": {
      "text/plain": [
       "False"
      ]
     },
     "execution_count": 4,
     "metadata": {},
     "output_type": "execute_result"
    }
   ],
   "source": [
    "whata= Path(Path.home(),'Documentos/Disciplina POO 012023/Projeto_ATM.pdf')\n",
    "\n",
    "whata.is_dir()"
   ]
  },
  {
   "cell_type": "code",
   "execution_count": 5,
   "id": "4bfbde55",
   "metadata": {},
   "outputs": [
    {
     "data": {
      "text/plain": [
       "True"
      ]
     },
     "execution_count": 5,
     "metadata": {},
     "output_type": "execute_result"
    }
   ],
   "source": [
    "whata.is_file()"
   ]
  },
  {
   "cell_type": "code",
   "execution_count": 6,
   "id": "6896ee24",
   "metadata": {},
   "outputs": [
    {
     "data": {
      "text/plain": [
       "True"
      ]
     },
     "execution_count": 6,
     "metadata": {},
     "output_type": "execute_result"
    }
   ],
   "source": [
    "whata.exists()"
   ]
  },
  {
   "cell_type": "markdown",
   "id": "d327d01a",
   "metadata": {},
   "source": [
    "# Leitura e Escrita de Arquivos"
   ]
  },
  {
   "cell_type": "code",
   "execution_count": 7,
   "id": "260c5c0c",
   "metadata": {},
   "outputs": [],
   "source": [
    "destinyDir= Path(Path.home(),'Documentos/Disciplina POO 012023/Aula 14/clients_db.txt')\n",
    "\n",
    "destinyDir.touch(exist_ok= True)\n",
    "\n",
    "dataFile= open(destinyDir,'w')\n",
    "\n",
    "dataFile.write('client_id: 1\\n')\n",
    "\n",
    "dataFile.close()"
   ]
  },
  {
   "cell_type": "code",
   "execution_count": 8,
   "id": "f1c513dd",
   "metadata": {},
   "outputs": [],
   "source": [
    "# nova inserção:\n",
    "\n",
    "bancoPath= Path(Path.home(),'Documentos/Disciplina POO 012023/Aula 14')\n",
    "\n",
    "dataFile= open(Path(bancoPath,'clients_db.txt'),'a')\n",
    "\n",
    "dataFile.write('  nome: Henrique\\n')\n",
    "dataFile.write('  telefone: 61996986360\\n')\n",
    "dataFile.write('  saldo: 100\\n')\n",
    "dataFile.write('  next\\n\\n')\n",
    "\n",
    "dataFile.close()"
   ]
  },
  {
   "cell_type": "code",
   "execution_count": 9,
   "id": "b67fda13",
   "metadata": {},
   "outputs": [
    {
     "name": "stdout",
     "output_type": "stream",
     "text": [
      "client_id: 1\n",
      "  nome: Henrique\n",
      "  telefone: 61996986360\n",
      "  saldo: 100\n",
      "  next\n",
      "\n",
      "\n"
     ]
    }
   ],
   "source": [
    "# Verificando o conteúdo de um arquivo (por completo):\n",
    "\n",
    "bancoPath= Path(Path.home(),'Documentos/Disciplina POO 012023/Aula 14')\n",
    "\n",
    "dataFile= open(Path(bancoPath,'clients_db.txt'),'r')\n",
    "\n",
    "print(dataFile.read())"
   ]
  },
  {
   "cell_type": "code",
   "execution_count": 10,
   "id": "9e50fc37",
   "metadata": {},
   "outputs": [
    {
     "name": "stdout",
     "output_type": "stream",
     "text": [
      "['client_id: 1\\n', '  nome: Henrique\\n', '  telefone: 61996986360\\n', '  saldo: 100\\n', '  next\\n', '\\n']\n"
     ]
    }
   ],
   "source": [
    "# Lendo o conteúdo de um arquivo linha por linha:\n",
    "\n",
    "\n",
    "bancoPath= Path(Path.home(),'Documentos/Disciplina POO 012023/Aula 14')\n",
    "\n",
    "dataFile= open(Path(bancoPath,'clients_db.txt'),'r')\n",
    "\n",
    "lines= dataFile.readlines()\n",
    "\n",
    "dataFile.close()\n",
    "\n",
    "print(lines)"
   ]
  },
  {
   "cell_type": "code",
   "execution_count": 11,
   "id": "f5f55dbc",
   "metadata": {},
   "outputs": [
    {
     "name": "stdout",
     "output_type": "stream",
     "text": [
      "Saidas:\n",
      "\n",
      "Cliente: 1\n",
      "Nome: Henrique\n",
      "Telefone: 61996986360\n",
      "Saldo: 100.0\n",
      "\n"
     ]
    }
   ],
   "source": [
    "client_id= 0\n",
    "nome= ''\n",
    "telefone= ''\n",
    "saldo= 0\n",
    "\n",
    "for line in lines:\n",
    "    if 'client_id: ' in line:\n",
    "        client_id= int(line.replace('client_id','').replace(':','').replace(' ',''))\n",
    "    elif 'nome' in line:\n",
    "        nome= str(line.replace('nome','').replace(':','').replace(' ',''))\n",
    "    elif 'telefone' in line:\n",
    "        telefone= str(line.replace('telefone','').replace(':','').replace(' ',''))\n",
    "    elif 'saldo' in line:\n",
    "        saldo= float(line.replace('saldo','').replace(':','').replace(' ',''))\n",
    "\n",
    "print(f'Saidas:\\n\\nCliente: {client_id}\\nNome: {nome}Telefone: {telefone}Saldo: {saldo}\\n')"
   ]
  },
  {
   "cell_type": "markdown",
   "id": "4d8d2f01",
   "metadata": {},
   "source": [
    "# Datas em Python"
   ]
  },
  {
   "cell_type": "code",
   "execution_count": 12,
   "id": "16d16dba",
   "metadata": {},
   "outputs": [
    {
     "name": "stdout",
     "output_type": "stream",
     "text": [
      "Today's date = 2023-05-11\n"
     ]
    }
   ],
   "source": [
    "from datetime import date\n",
    "\n",
    "# today() to get current date\n",
    "todays_date = date.today()\n",
    "\n",
    "print(\"Today's date =\", todays_date)"
   ]
  },
  {
   "cell_type": "code",
   "execution_count": null,
   "id": "c35aae85",
   "metadata": {},
   "outputs": [],
   "source": []
  }
 ],
 "metadata": {
  "kernelspec": {
   "display_name": "Python 3 (ipykernel)",
   "language": "python",
   "name": "python3"
  },
  "language_info": {
   "codemirror_mode": {
    "name": "ipython",
    "version": 3
   },
   "file_extension": ".py",
   "mimetype": "text/x-python",
   "name": "python",
   "nbconvert_exporter": "python",
   "pygments_lexer": "ipython3",
   "version": "3.9.12"
  }
 },
 "nbformat": 4,
 "nbformat_minor": 5
}
